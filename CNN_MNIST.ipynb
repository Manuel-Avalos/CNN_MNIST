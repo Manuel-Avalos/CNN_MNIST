{
 "cells": [
  {
   "cell_type": "code",
   "execution_count": 1,
   "metadata": {
    "collapsed": true
   },
   "outputs": [],
   "source": [
    "import numpy as np\n",
    "from mnist import MNIST\n",
    "import matplotlib.pylab as plt\n",
    "%matplotlib inline"
   ]
  },
  {
   "cell_type": "code",
   "execution_count": 2,
   "metadata": {
    "collapsed": true
   },
   "outputs": [],
   "source": [
    "# for reproducibility of the results\n",
    "np.random.seed(1)"
   ]
  },
  {
   "cell_type": "code",
   "execution_count": 3,
   "metadata": {
    "collapsed": true
   },
   "outputs": [],
   "source": [
    "# read the raw images and labels\n",
    "mndata = MNIST('/Users/Silvestre/Desktop/mnist')\n",
    "training_images, training_labels = mndata.load_training()\n",
    "test_images, test_labels = mndata.load_testing()"
   ]
  },
  {
   "cell_type": "code",
   "execution_count": 4,
   "metadata": {
    "collapsed": true
   },
   "outputs": [],
   "source": [
    "# convert the lists to numpy array for easier manipulation\n",
    "training_images = np.array([np.array(item) for item in training_images])\n",
    "training_labels = np.array(training_labels)\n",
    "test_images = np.array([np.array(item) for item in test_images])\n",
    "test_labels = np.array(test_labels)"
   ]
  },
  {
   "cell_type": "code",
   "execution_count": 5,
   "metadata": {},
   "outputs": [
    {
     "data": {
      "image/png": "[encoded data removed]",
      "text/plain": [
       "<matplotlib.figure.Figure at 0x108562470>"
      ]
     },
     "metadata": {},
     "output_type": "display_data"
    }
   ],
   "source": [
    "# pick a random item from the training set and visualize it\n",
    "k = np.random.choice(len(training_images))\n",
    "# reshape the vector to its image dimensions \n",
    "example_image = training_images[k].reshape((28,28))\n",
    "example_label = training_labels[k]\n",
    "\n",
    "plt.imshow(example_image, cmap='gray')\n",
    "plt.title(example_label)\n",
    "plt.show()"
   ]
  },
  {
   "cell_type": "code",
   "execution_count": 6,
   "metadata": {
    "collapsed": true
   },
   "outputs": [],
   "source": [
    "# finding the index of all 1s and 5s\n",
    "index_1s = np.where(training_labels==1)[0]\n",
    "index_5s = np.where(training_labels==5)[0]\n",
    "\n",
    "# randomly picking 500 items of each class\n",
    "random_index_for_1s = np.random.choice(index_1s, size=500, replace=False)\n",
    "random_index_for_5s = np.random.choice(index_5s, size=500, replace=False)\n",
    "\n",
    "# create 1s and 5s vectors \n",
    "training_images_1s = training_images[random_index_for_1s].T\n",
    "training_labels_1s = training_labels[random_index_for_1s].T\n",
    "training_images_5s = training_images[random_index_for_5s].T\n",
    "training_labels_5s = training_labels[random_index_for_5s].T"
   ]
  },
  {
   "cell_type": "code",
   "execution_count": 7,
   "metadata": {
    "collapsed": true
   },
   "outputs": [],
   "source": [
    "# put all of the training data together\n",
    "training_images = np.hstack((training_images_1s,training_images_5s))\n",
    "training_labels = np.hstack((training_labels_1s,training_labels_5s))\n",
    "\n",
    "# create a shuffle\n",
    "random_order = np.arange(1000)\n",
    "np.random.shuffle(random_order)\n",
    "\n",
    "# shuffle the data\n",
    "training_images = training_images[:,random_order]\n",
    "training_labels = training_labels[random_order]"
   ]
  },
  {
   "cell_type": "code",
   "execution_count": 8,
   "metadata": {
    "collapsed": true
   },
   "outputs": [],
   "source": [
    "# pick a random item from the training set and visualize it\n",
    "k = np.random.choice(len(training_images))\n",
    "# your code goes here \n",
    "example_image = training_images[:,k].reshape((28,28))\n",
    "example_label = training_labels[k]\n",
    "\n",
    "# calclulate intensity and symmetry\n",
    "#itns = mean_intensity(example_image.reshape(784,1)/255)[0][0]\n",
    "#symm = symmetry(example_image.reshape(784,1)/255)[0][0]\n",
    "\n",
    "\n",
    "\n",
    "# show the image\n",
    "#plt.imshow(example_image, cmap='gray')\n",
    "# create the title\n",
    "#plt.title('label is '+str(example_label)+', '\\\n",
    "          #' intesty is '+'{0:.2f}'.format(itns)+', '\\\n",
    "         # ' symmery is '+'{0:.2f}'.format(symm) )\n",
    "#plt.show()"
   ]
  },
  {
   "cell_type": "code",
   "execution_count": 9,
   "metadata": {
    "collapsed": true
   },
   "outputs": [],
   "source": [
    "# creating y from labels: 1->1 and 5->0\n",
    "y = np.ones((1,len(training_labels)))\n",
    "y[:,training_labels == 5] = 0"
   ]
  },
  {
   "cell_type": "code",
   "execution_count": 10,
   "metadata": {},
   "outputs": [
    {
     "name": "stderr",
     "output_type": "stream",
     "text": [
      "/Users/Silvestre/anaconda/lib/python3.6/site-packages/matplotlib/figure.py:403: UserWarning: matplotlib is currently using a non-GUI backend, so cannot show the figure\n",
      "  \"matplotlib is currently using a non-GUI backend, \"\n"
     ]
    },
    {
     "data": {
      "image/png": "[encoded data removed]",
      "text/plain": [
       "<matplotlib.figure.Figure at 0x112be5208>"
      ]
     },
     "metadata": {},
     "output_type": "display_data"
    }
   ],
   "source": [
    "from scipy import signal\n",
    "\n",
    "# pick a random image from our dataset\n",
    "k = np.random.choice(len(training_images))\n",
    "example_image = training_images[:,k].reshape((28,28))/255\n",
    "\n",
    "# define a kernel\n",
    "ker = np.array([[ -1, -1],\n",
    "                [ 1, 1]])\n",
    "\n",
    "# find the convolution\n",
    "grad = signal.convolve2d(example_image, ker)\n",
    "\n",
    "fig, (ax_orig, ax_mag, ax_ang) = plt.subplots(1, 3)\n",
    "\n",
    "ax_orig.imshow(example_image, cmap='gray')\n",
    "ax_orig.set_title('Original')\n",
    "ax_orig.set_axis_off()\n",
    "\n",
    "ax_mag.imshow(np.absolute(grad), cmap='gray')\n",
    "ax_mag.set_title('Convoled')\n",
    "ax_ang.set_axis_off()\n",
    "fig.show()"
   ]
  },
  {
   "cell_type": "code",
   "execution_count": 11,
   "metadata": {
    "collapsed": true
   },
   "outputs": [],
   "source": [
    "#Mean horizontal edge\n",
    "def h_edge(X):\n",
    "    m = X.shape[1]\n",
    "    ker = np.array([[ -1, -1],\n",
    "                    [ 1, 1]])\n",
    "    mean_horizontal_edge = np.zeros((1,m))\n",
    "    for j in range(m):\n",
    "        image = X[:,j].reshape((28,28))/255\n",
    "        grad = signal.convolve2d(image, ker)\n",
    "        mean_horizontal_edge[:,j] = np.mean(np.absolute(grad))\n",
    "    return mean_horizontal_edge"
   ]
  },
  {
   "cell_type": "code",
   "execution_count": 12,
   "metadata": {},
   "outputs": [
    {
     "data": {
      "text/plain": [
       "(1, 1000)"
      ]
     },
     "execution_count": 12,
     "metadata": {},
     "output_type": "execute_result"
    }
   ],
   "source": [
    "mean_horizontal_edge = h_edge(training_images/255)\n",
    "mean_horizontal_edge.shape"
   ]
  },
  {
   "cell_type": "code",
   "execution_count": 13,
   "metadata": {
    "collapsed": true
   },
   "outputs": [],
   "source": [
    "#Mean vertical edge\n",
    "def v_edge(X):\n",
    "    m = X.shape[1]\n",
    "    ker = np.array([[ -1, 1],\n",
    "                    [ -1, 1]])\n",
    "    mean_vertical_edge = np.zeros((1,m))\n",
    "    for j in range(m):\n",
    "        image = X[:,j].reshape((28,28))/255\n",
    "        grad = signal.convolve2d(image, ker)\n",
    "        mean_vertical_edge[:,j] = np.mean(np.absolute(grad))\n",
    "    return mean_vertical_edge"
   ]
  },
  {
   "cell_type": "code",
   "execution_count": 14,
   "metadata": {},
   "outputs": [
    {
     "data": {
      "text/plain": [
       "(1, 1000)"
      ]
     },
     "execution_count": 14,
     "metadata": {},
     "output_type": "execute_result"
    }
   ],
   "source": [
    "mean_vertical_edge = v_edge(training_images/255)\n",
    "mean_vertical_edge.shape"
   ]
  },
  {
   "cell_type": "code",
   "execution_count": 15,
   "metadata": {
    "collapsed": true
   },
   "outputs": [],
   "source": [
    "#Variance of the horizontal edge\n",
    "def p_edge(X):\n",
    "    m = X.shape[1]\n",
    "    ker = np.array([[ -1, 1],\n",
    "                    [ -1, 1]])\n",
    "    var_horizontal_edge = np.zeros((1,m))\n",
    "    for j in range(m):\n",
    "        image = X[:,j].reshape((28,28))/255\n",
    "        grad = signal.convolve2d(image, ker)\n",
    "        var_horizontal_edge[:,j] = np.var(np.absolute(grad))\n",
    "    return var_horizontal_edge"
   ]
  },
  {
   "cell_type": "code",
   "execution_count": 16,
   "metadata": {},
   "outputs": [
    {
     "data": {
      "text/plain": [
       "(1, 1000)"
      ]
     },
     "execution_count": 16,
     "metadata": {},
     "output_type": "execute_result"
    }
   ],
   "source": [
    "var_horizontal_edge = p_edge(training_images/255)\n",
    "var_horizontal_edge.shape"
   ]
  },
  {
   "cell_type": "code",
   "execution_count": 17,
   "metadata": {
    "collapsed": true
   },
   "outputs": [],
   "source": [
    "# Symmetry filter\n",
    "def symmetry(X):\n",
    "    # find and reshape to the original dimensions of the image\n",
    "    dim = X.shape[0]\n",
    "    sqr_mat = X.reshape((int(np.sqrt(dim)),int(np.sqrt(dim)),X.shape[1]))\n",
    "    # flip the images horizontally\n",
    "    flipped = np.flip(sqr_mat,axis=1)\n",
    "    # difference of the image and its flipped\n",
    "    diff = sqr_mat - flipped\n",
    "    abs_diff = np.absolute(diff)\n",
    "    # flatten the images back to vectors\n",
    "    flatten = abs_diff.reshape(X.shape)\n",
    "    # find the avrage antisymmetry and subtract from 1 for symmetry\n",
    "    ave = 1 - np.mean(flatten,axis=0)\n",
    "    # reshape to the appropriate shape\n",
    "    ave = ave.reshape((1,ave.shape[0]))\n",
    "    return ave"
   ]
  },
  {
   "cell_type": "code",
   "execution_count": 18,
   "metadata": {},
   "outputs": [
    {
     "name": "stdout",
     "output_type": "stream",
     "text": [
      "(1, 1000)\n"
     ]
    }
   ],
   "source": [
    "X_symmetry = symmetry(training_images/255)\n",
    "print(X_symmetry.shape)"
   ]
  },
  {
   "cell_type": "code",
   "execution_count": 19,
   "metadata": {
    "collapsed": true
   },
   "outputs": [],
   "source": [
    "#Intensity filter\n",
    "def mean_intensity(X):\n",
    "    ave = np.mean(X,axis=0)\n",
    "    # reshape to the appripriate dimensions\n",
    "    ave = ave.reshape((ave.shape[0],1)).T\n",
    "    return ave"
   ]
  },
  {
   "cell_type": "code",
   "execution_count": 20,
   "metadata": {},
   "outputs": [
    {
     "name": "stdout",
     "output_type": "stream",
     "text": [
      "(1, 1000)\n"
     ]
    }
   ],
   "source": [
    "X_intensity = mean_intensity(training_images/255)\n",
    "print(X_intensity.shape)"
   ]
  },
  {
   "cell_type": "code",
   "execution_count": 21,
   "metadata": {
    "collapsed": true
   },
   "outputs": [],
   "source": [
    "#Here we collected our 3 convolution layers together\n",
    "#I included the other options at the bottom comment section, feel free to compare how the data interacts\n",
    "Y = np.vstack([mean_horizontal_edge , mean_vertical_edge , var_horizontal_edge]) \n",
    "# mean_vertical_edge, var_horizontal_edge, mean_horizontal_edge\n",
    "#X_intensity, X_symmetry"
   ]
  },
  {
   "cell_type": "code",
   "execution_count": 23,
   "metadata": {},
   "outputs": [
    {
     "name": "stdout",
     "output_type": "stream",
     "text": [
      "Using matplotlib backend: MacOSX\n"
     ]
    }
   ],
   "source": [
    "#this is our 3d graph\n",
    "%matplotlib \n",
    "fig = plt.figure()\n",
    "from mpl_toolkits.mplot3d import Axes3D\n",
    "ax = fig.add_subplot(1,1,1, projection='3d')\n",
    "\n",
    "\n",
    "# the scatter plot\n",
    "ax.scatter(Y[0], Y[1], Y[2], c=y, s=25)\n",
    "\n",
    "plt.show(ax)"
   ]
  },
  {
   "cell_type": "code",
   "execution_count": 22,
   "metadata": {
    "collapsed": true
   },
   "outputs": [],
   "source": [
    "def hyp_fun(Y,W,b):\n",
    "    \n",
    "    # linear combination of inputs\n",
    "    z = np.dot(W.T,Y)+b\n",
    "    # sigmoid function on top of the linear function\n",
    "    yhat = np.divide(1,np.array(1+np.exp(-z)))\n",
    "    \n",
    "    # we consider .5 as our threshhold\n",
    "    # yhat>.5 -> 1 and yhat<.5 -> 0\n",
    "    binary_yhat = np.zeros_like(yhat)\n",
    "    for i in range(yhat.shape[1]):\n",
    "        if yhat[0,i]>.5:\n",
    "            binary_yhat[0,i]=1\n",
    "            \n",
    "    return binary_yhat"
   ]
  },
  {
   "cell_type": "code",
   "execution_count": 23,
   "metadata": {
    "collapsed": true
   },
   "outputs": [],
   "source": [
    "from tqdm import tqdm\n",
    "\n",
    "dim = Y.shape[0]\n",
    "m = Y.shape[1]\n",
    "\n",
    "costs = []\n",
    "accs = []\n",
    "\n",
    "w = np.zeros((dim,1))\n",
    "b = 0\n",
    "\n",
    "learning_rate = 0.01\n",
    "\n",
    "for i in range(250000):\n",
    "    z = np.dot(w.T,Y)+b\n",
    "    A = np.divide(1,np.array(1+np.exp(-z)))\n",
    "\n",
    "    cost = (-1./m)*np.sum(y*np.log(A)+(1-y)*np.log((1-A)))\n",
    "    \n",
    "    acc = 100 - np.mean(np.abs(hyp_fun(Y,w,b) - y)) * 100\n",
    "\n",
    "    dw = (1./m)*np.dot(Y,(A-y).T)\n",
    "    db = (1./m)*np.sum(A-y)\n",
    "    \n",
    "    w = w - learning_rate*dw\n",
    "    b = b - learning_rate*db\n",
    "    \n",
    "    if i % 100 == 0:\n",
    "        costs.append(cost)\n",
    "        accs.append(acc)"
   ]
  },
  {
   "cell_type": "code",
   "execution_count": 24,
   "metadata": {},
   "outputs": [
    {
     "data": {
      "image/png": "[encoded data removed]",
      "text/plain": [
       "<matplotlib.figure.Figure at 0x102205dd8>"
      ]
     },
     "metadata": {},
     "output_type": "display_data"
    },
    {
     "name": "stdout",
     "output_type": "stream",
     "text": [
      "0.693120351876 0.69314718056 0.693133766072\n"
     ]
    }
   ],
   "source": [
    "# Plot learning curve (with costs)\n",
    "costs = np.squeeze(costs)\n",
    "plt.plot(costs)\n",
    "plt.show()\n",
    "print(min(costs),max(costs), np.average(costs))"
   ]
  },
  {
   "cell_type": "code",
   "execution_count": 25,
   "metadata": {},
   "outputs": [
    {
     "data": {
      "image/png": "[encoded data removed]",
      "text/plain": [
       "<matplotlib.figure.Figure at 0x1129e3eb8>"
      ]
     },
     "metadata": {},
     "output_type": "display_data"
    },
    {
     "name": "stdout",
     "output_type": "stream",
     "text": [
      "50.0 98.7 97.35868\n"
     ]
    }
   ],
   "source": [
    "# Plot accuracy\n",
    "accs = np.squeeze(accs)\n",
    "plt.plot(accs)\n",
    "plt.show()\n",
    "print(min(accs) , max(accs), np.average(accs))"
   ]
  },
  {
   "cell_type": "code",
   "execution_count": 26,
   "metadata": {
    "collapsed": true
   },
   "outputs": [],
   "source": [
    "# finding the index of all 1s and 5s\n",
    "index_1s = np.where(test_labels==1)[0]\n",
    "index_5s = np.where(test_labels==5)[0]\n",
    "\n",
    "# randomly picking 500 items of each class\n",
    "random_index_for_1s = np.random.choice(index_1s, size=500, replace=False)\n",
    "random_index_for_5s = np.random.choice(index_5s, size=500, replace=False)\n",
    "\n",
    "# create 1s and 5s vectors \n",
    "test_images_1s = test_images[random_index_for_1s].T\n",
    "test_labels_1s = test_labels[random_index_for_1s].T\n",
    "test_images_5s = test_images[random_index_for_5s].T\n",
    "test_labels_5s = test_labels[random_index_for_5s].T\n",
    "\n",
    "# put all of the training data together\n",
    "test_images = np.hstack((test_images_1s,test_images_5s))\n",
    "test_labels = np.hstack((test_labels_1s,test_labels_5s))\n",
    "\n",
    "# create a shuffle\n",
    "random_order = np.arange(1000)\n",
    "np.random.shuffle(random_order)\n",
    "\n",
    "# shuffle the data\n",
    "test_images = test_images[:,random_order]\n",
    "test_labels = test_labels[random_order]"
   ]
  },
  {
   "cell_type": "code",
   "execution_count": 27,
   "metadata": {
    "collapsed": true
   },
   "outputs": [],
   "source": [
    "# creating y from labels: 1->1 and 5->0\n",
    "y = np.ones((1,len(test_labels)))\n",
    "y[:,test_labels == 5] = 0\n",
    "\n",
    "# Use the weights and bias from the model to perdict\n",
    "test_meanhorizontal = h_edge(test_images/255)\n",
    "test_meanvertical = v_edge(test_images/255)\n",
    "test_varhorizontal = p_edge(test_images/255)\n",
    "test = np.vstack([test_meanhorizontal, test_meanvertical, test_varhorizontal])\n",
    "yhat = hyp_fun(test, w, b)\n"
   ]
  },
  {
   "cell_type": "code",
   "execution_count": 28,
   "metadata": {},
   "outputs": [
    {
     "name": "stdout",
     "output_type": "stream",
     "text": [
      "98.6\n"
     ]
    }
   ],
   "source": [
    "#Here is our accuracy when we ran the test data after training\n",
    "acc = 100 - np.mean(np.abs(yhat - y)) * 100\n",
    "print(acc)"
   ]
  },
  {
   "cell_type": "code",
   "execution_count": null,
   "metadata": {
    "collapsed": true
   },
   "outputs": [],
   "source": []
  }
 ],
 "metadata": {
  "kernelspec": {
   "display_name": "Python 3",
   "language": "python",
   "name": "python3"
  },
  "language_info": {
   "codemirror_mode": {
    "name": "ipython",
    "version": 3
   },
   "file_extension": ".py",
   "mimetype": "text/x-python",
   "name": "python",
   "nbconvert_exporter": "python",
   "pygments_lexer": "ipython3",
   "version": "3.6.1"
  }
 },
 "nbformat": 4,
 "nbformat_minor": 2
}
